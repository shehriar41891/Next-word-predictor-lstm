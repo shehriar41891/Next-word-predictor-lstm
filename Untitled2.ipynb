{
  "nbformat": 4,
  "nbformat_minor": 0,
  "metadata": {
    "colab": {
      "provenance": [],
      "gpuType": "T4",
      "authorship_tag": "ABX9TyMfqT6OsyJr5u2+ejhdK/Ki",
      "include_colab_link": true
    },
    "kernelspec": {
      "name": "python3",
      "display_name": "Python 3"
    },
    "language_info": {
      "name": "python"
    },
    "accelerator": "GPU"
  },
  "cells": [
    {
      "cell_type": "markdown",
      "metadata": {
        "id": "view-in-github",
        "colab_type": "text"
      },
      "source": [
        "<a href=\"https://colab.research.google.com/github/shehriar41891/Next-word-predictor-lstm/blob/main/Untitled2.ipynb\" target=\"_parent\"><img src=\"https://colab.research.google.com/assets/colab-badge.svg\" alt=\"Open In Colab\"/></a>"
      ]
    },
    {
      "cell_type": "code",
      "execution_count": 1,
      "metadata": {
        "id": "LaaxkRiesK6Z"
      },
      "outputs": [],
      "source": [
        "import tensorflow as tf\n",
        "import keras"
      ]
    },
    {
      "cell_type": "code",
      "source": [
        "!pip install -q kaggle"
      ],
      "metadata": {
        "id": "NX00p8V2sQeI"
      },
      "execution_count": 2,
      "outputs": []
    },
    {
      "cell_type": "code",
      "source": [
        "!mkdir ~/.kaggle"
      ],
      "metadata": {
        "id": "CjmkNI3WscN2"
      },
      "execution_count": 3,
      "outputs": []
    },
    {
      "cell_type": "code",
      "source": [
        "from google.colab import files\n",
        "files.upload()"
      ],
      "metadata": {
        "colab": {
          "base_uri": "https://localhost:8080/",
          "height": 90
        },
        "id": "3cKd3FWssTZ5",
        "outputId": "cdc958a8-42d5-4a57-b435-da6179c56797"
      },
      "execution_count": 4,
      "outputs": [
        {
          "output_type": "display_data",
          "data": {
            "text/plain": [
              "<IPython.core.display.HTML object>"
            ],
            "text/html": [
              "\n",
              "     <input type=\"file\" id=\"files-4e2d6599-64a3-474c-8885-17f4668b6432\" name=\"files[]\" multiple disabled\n",
              "        style=\"border:none\" />\n",
              "     <output id=\"result-4e2d6599-64a3-474c-8885-17f4668b6432\">\n",
              "      Upload widget is only available when the cell has been executed in the\n",
              "      current browser session. Please rerun this cell to enable.\n",
              "      </output>\n",
              "      <script>// Copyright 2017 Google LLC\n",
              "//\n",
              "// Licensed under the Apache License, Version 2.0 (the \"License\");\n",
              "// you may not use this file except in compliance with the License.\n",
              "// You may obtain a copy of the License at\n",
              "//\n",
              "//      http://www.apache.org/licenses/LICENSE-2.0\n",
              "//\n",
              "// Unless required by applicable law or agreed to in writing, software\n",
              "// distributed under the License is distributed on an \"AS IS\" BASIS,\n",
              "// WITHOUT WARRANTIES OR CONDITIONS OF ANY KIND, either express or implied.\n",
              "// See the License for the specific language governing permissions and\n",
              "// limitations under the License.\n",
              "\n",
              "/**\n",
              " * @fileoverview Helpers for google.colab Python module.\n",
              " */\n",
              "(function(scope) {\n",
              "function span(text, styleAttributes = {}) {\n",
              "  const element = document.createElement('span');\n",
              "  element.textContent = text;\n",
              "  for (const key of Object.keys(styleAttributes)) {\n",
              "    element.style[key] = styleAttributes[key];\n",
              "  }\n",
              "  return element;\n",
              "}\n",
              "\n",
              "// Max number of bytes which will be uploaded at a time.\n",
              "const MAX_PAYLOAD_SIZE = 100 * 1024;\n",
              "\n",
              "function _uploadFiles(inputId, outputId) {\n",
              "  const steps = uploadFilesStep(inputId, outputId);\n",
              "  const outputElement = document.getElementById(outputId);\n",
              "  // Cache steps on the outputElement to make it available for the next call\n",
              "  // to uploadFilesContinue from Python.\n",
              "  outputElement.steps = steps;\n",
              "\n",
              "  return _uploadFilesContinue(outputId);\n",
              "}\n",
              "\n",
              "// This is roughly an async generator (not supported in the browser yet),\n",
              "// where there are multiple asynchronous steps and the Python side is going\n",
              "// to poll for completion of each step.\n",
              "// This uses a Promise to block the python side on completion of each step,\n",
              "// then passes the result of the previous step as the input to the next step.\n",
              "function _uploadFilesContinue(outputId) {\n",
              "  const outputElement = document.getElementById(outputId);\n",
              "  const steps = outputElement.steps;\n",
              "\n",
              "  const next = steps.next(outputElement.lastPromiseValue);\n",
              "  return Promise.resolve(next.value.promise).then((value) => {\n",
              "    // Cache the last promise value to make it available to the next\n",
              "    // step of the generator.\n",
              "    outputElement.lastPromiseValue = value;\n",
              "    return next.value.response;\n",
              "  });\n",
              "}\n",
              "\n",
              "/**\n",
              " * Generator function which is called between each async step of the upload\n",
              " * process.\n",
              " * @param {string} inputId Element ID of the input file picker element.\n",
              " * @param {string} outputId Element ID of the output display.\n",
              " * @return {!Iterable<!Object>} Iterable of next steps.\n",
              " */\n",
              "function* uploadFilesStep(inputId, outputId) {\n",
              "  const inputElement = document.getElementById(inputId);\n",
              "  inputElement.disabled = false;\n",
              "\n",
              "  const outputElement = document.getElementById(outputId);\n",
              "  outputElement.innerHTML = '';\n",
              "\n",
              "  const pickedPromise = new Promise((resolve) => {\n",
              "    inputElement.addEventListener('change', (e) => {\n",
              "      resolve(e.target.files);\n",
              "    });\n",
              "  });\n",
              "\n",
              "  const cancel = document.createElement('button');\n",
              "  inputElement.parentElement.appendChild(cancel);\n",
              "  cancel.textContent = 'Cancel upload';\n",
              "  const cancelPromise = new Promise((resolve) => {\n",
              "    cancel.onclick = () => {\n",
              "      resolve(null);\n",
              "    };\n",
              "  });\n",
              "\n",
              "  // Wait for the user to pick the files.\n",
              "  const files = yield {\n",
              "    promise: Promise.race([pickedPromise, cancelPromise]),\n",
              "    response: {\n",
              "      action: 'starting',\n",
              "    }\n",
              "  };\n",
              "\n",
              "  cancel.remove();\n",
              "\n",
              "  // Disable the input element since further picks are not allowed.\n",
              "  inputElement.disabled = true;\n",
              "\n",
              "  if (!files) {\n",
              "    return {\n",
              "      response: {\n",
              "        action: 'complete',\n",
              "      }\n",
              "    };\n",
              "  }\n",
              "\n",
              "  for (const file of files) {\n",
              "    const li = document.createElement('li');\n",
              "    li.append(span(file.name, {fontWeight: 'bold'}));\n",
              "    li.append(span(\n",
              "        `(${file.type || 'n/a'}) - ${file.size} bytes, ` +\n",
              "        `last modified: ${\n",
              "            file.lastModifiedDate ? file.lastModifiedDate.toLocaleDateString() :\n",
              "                                    'n/a'} - `));\n",
              "    const percent = span('0% done');\n",
              "    li.appendChild(percent);\n",
              "\n",
              "    outputElement.appendChild(li);\n",
              "\n",
              "    const fileDataPromise = new Promise((resolve) => {\n",
              "      const reader = new FileReader();\n",
              "      reader.onload = (e) => {\n",
              "        resolve(e.target.result);\n",
              "      };\n",
              "      reader.readAsArrayBuffer(file);\n",
              "    });\n",
              "    // Wait for the data to be ready.\n",
              "    let fileData = yield {\n",
              "      promise: fileDataPromise,\n",
              "      response: {\n",
              "        action: 'continue',\n",
              "      }\n",
              "    };\n",
              "\n",
              "    // Use a chunked sending to avoid message size limits. See b/62115660.\n",
              "    let position = 0;\n",
              "    do {\n",
              "      const length = Math.min(fileData.byteLength - position, MAX_PAYLOAD_SIZE);\n",
              "      const chunk = new Uint8Array(fileData, position, length);\n",
              "      position += length;\n",
              "\n",
              "      const base64 = btoa(String.fromCharCode.apply(null, chunk));\n",
              "      yield {\n",
              "        response: {\n",
              "          action: 'append',\n",
              "          file: file.name,\n",
              "          data: base64,\n",
              "        },\n",
              "      };\n",
              "\n",
              "      let percentDone = fileData.byteLength === 0 ?\n",
              "          100 :\n",
              "          Math.round((position / fileData.byteLength) * 100);\n",
              "      percent.textContent = `${percentDone}% done`;\n",
              "\n",
              "    } while (position < fileData.byteLength);\n",
              "  }\n",
              "\n",
              "  // All done.\n",
              "  yield {\n",
              "    response: {\n",
              "      action: 'complete',\n",
              "    }\n",
              "  };\n",
              "}\n",
              "\n",
              "scope.google = scope.google || {};\n",
              "scope.google.colab = scope.google.colab || {};\n",
              "scope.google.colab._files = {\n",
              "  _uploadFiles,\n",
              "  _uploadFilesContinue,\n",
              "};\n",
              "})(self);\n",
              "</script> "
            ]
          },
          "metadata": {}
        },
        {
          "output_type": "stream",
          "name": "stdout",
          "text": [
            "Saving kaggle (1).json to kaggle (1).json\n"
          ]
        },
        {
          "output_type": "execute_result",
          "data": {
            "text/plain": [
              "{'kaggle (1).json': b'{\"username\":\"shehriaralikhan\",\"key\":\"74d41d4df0882d29a33fe2d3bb5e1c99\"}'}"
            ]
          },
          "metadata": {},
          "execution_count": 4
        }
      ]
    },
    {
      "cell_type": "code",
      "source": [
        "!kaggle datasets download -d jdragonxherrera/augmented-data-for-llm-detect-ai-generated-text"
      ],
      "metadata": {
        "colab": {
          "base_uri": "https://localhost:8080/"
        },
        "id": "fa4ckgnNsZYh",
        "outputId": "1cbd0f7c-d44f-4038-c4da-461b9612963f"
      },
      "execution_count": 5,
      "outputs": [
        {
          "output_type": "stream",
          "name": "stdout",
          "text": [
            "Warning: Looks like you're using an outdated API Version, please consider updating (server 1.6.14 / client 1.6.12)\n",
            "Dataset URL: https://www.kaggle.com/datasets/jdragonxherrera/augmented-data-for-llm-detect-ai-generated-text\n",
            "License(s): MIT\n",
            "Downloading augmented-data-for-llm-detect-ai-generated-text.zip to /content\n",
            "100% 313M/314M [00:19<00:00, 26.4MB/s]\n",
            "100% 314M/314M [00:19<00:00, 16.7MB/s]\n"
          ]
        }
      ]
    },
    {
      "cell_type": "code",
      "source": [
        "!unzip /content/augmented-data-for-llm-detect-ai-generated-text.zip"
      ],
      "metadata": {
        "colab": {
          "base_uri": "https://localhost:8080/"
        },
        "id": "z8Y-G_Kus43S",
        "outputId": "9eac3d47-5384-46e0-a10f-a7e1a19ccf9a"
      },
      "execution_count": 6,
      "outputs": [
        {
          "output_type": "stream",
          "name": "stdout",
          "text": [
            "Archive:  /content/augmented-data-for-llm-detect-ai-generated-text.zip\n",
            "  inflating: final_test.csv          \n",
            "  inflating: final_train.csv         \n"
          ]
        }
      ]
    },
    {
      "cell_type": "code",
      "source": [
        "import pandas as pd\n",
        "import numpy as np"
      ],
      "metadata": {
        "id": "saPmE7AntKUx"
      },
      "execution_count": 7,
      "outputs": []
    },
    {
      "cell_type": "code",
      "source": [
        "data = pd.read_csv('/content/final_train.csv')"
      ],
      "metadata": {
        "id": "GbOhlJJrs_cL"
      },
      "execution_count": 8,
      "outputs": []
    },
    {
      "cell_type": "code",
      "source": [
        "data.sample(4)"
      ],
      "metadata": {
        "colab": {
          "base_uri": "https://localhost:8080/",
          "height": 174
        },
        "id": "tHoz0uVEtMJO",
        "outputId": "84dba92c-3962-4191-eb38-d6c1a23cf7ac"
      },
      "execution_count": 9,
      "outputs": [
        {
          "output_type": "execute_result",
          "data": {
            "text/plain": [
              "                                                     text  label\n",
              "220831  Technology has revolutionized the way we live ...      1\n",
              "27880   Have you ever been put in a position where a d...      0\n",
              "331487  The Electoral college should be abolished. Thi...      0\n",
              "5802     The path to success in life is paved with pos...      1"
            ],
            "text/html": [
              "\n",
              "  <div id=\"df-58411c08-1e93-421e-b92b-c63181a0a4a4\" class=\"colab-df-container\">\n",
              "    <div>\n",
              "<style scoped>\n",
              "    .dataframe tbody tr th:only-of-type {\n",
              "        vertical-align: middle;\n",
              "    }\n",
              "\n",
              "    .dataframe tbody tr th {\n",
              "        vertical-align: top;\n",
              "    }\n",
              "\n",
              "    .dataframe thead th {\n",
              "        text-align: right;\n",
              "    }\n",
              "</style>\n",
              "<table border=\"1\" class=\"dataframe\">\n",
              "  <thead>\n",
              "    <tr style=\"text-align: right;\">\n",
              "      <th></th>\n",
              "      <th>text</th>\n",
              "      <th>label</th>\n",
              "    </tr>\n",
              "  </thead>\n",
              "  <tbody>\n",
              "    <tr>\n",
              "      <th>220831</th>\n",
              "      <td>Technology has revolutionized the way we live ...</td>\n",
              "      <td>1</td>\n",
              "    </tr>\n",
              "    <tr>\n",
              "      <th>27880</th>\n",
              "      <td>Have you ever been put in a position where a d...</td>\n",
              "      <td>0</td>\n",
              "    </tr>\n",
              "    <tr>\n",
              "      <th>331487</th>\n",
              "      <td>The Electoral college should be abolished. Thi...</td>\n",
              "      <td>0</td>\n",
              "    </tr>\n",
              "    <tr>\n",
              "      <th>5802</th>\n",
              "      <td>The path to success in life is paved with pos...</td>\n",
              "      <td>1</td>\n",
              "    </tr>\n",
              "  </tbody>\n",
              "</table>\n",
              "</div>\n",
              "    <div class=\"colab-df-buttons\">\n",
              "\n",
              "  <div class=\"colab-df-container\">\n",
              "    <button class=\"colab-df-convert\" onclick=\"convertToInteractive('df-58411c08-1e93-421e-b92b-c63181a0a4a4')\"\n",
              "            title=\"Convert this dataframe to an interactive table.\"\n",
              "            style=\"display:none;\">\n",
              "\n",
              "  <svg xmlns=\"http://www.w3.org/2000/svg\" height=\"24px\" viewBox=\"0 -960 960 960\">\n",
              "    <path d=\"M120-120v-720h720v720H120Zm60-500h600v-160H180v160Zm220 220h160v-160H400v160Zm0 220h160v-160H400v160ZM180-400h160v-160H180v160Zm440 0h160v-160H620v160ZM180-180h160v-160H180v160Zm440 0h160v-160H620v160Z\"/>\n",
              "  </svg>\n",
              "    </button>\n",
              "\n",
              "  <style>\n",
              "    .colab-df-container {\n",
              "      display:flex;\n",
              "      gap: 12px;\n",
              "    }\n",
              "\n",
              "    .colab-df-convert {\n",
              "      background-color: #E8F0FE;\n",
              "      border: none;\n",
              "      border-radius: 50%;\n",
              "      cursor: pointer;\n",
              "      display: none;\n",
              "      fill: #1967D2;\n",
              "      height: 32px;\n",
              "      padding: 0 0 0 0;\n",
              "      width: 32px;\n",
              "    }\n",
              "\n",
              "    .colab-df-convert:hover {\n",
              "      background-color: #E2EBFA;\n",
              "      box-shadow: 0px 1px 2px rgba(60, 64, 67, 0.3), 0px 1px 3px 1px rgba(60, 64, 67, 0.15);\n",
              "      fill: #174EA6;\n",
              "    }\n",
              "\n",
              "    .colab-df-buttons div {\n",
              "      margin-bottom: 4px;\n",
              "    }\n",
              "\n",
              "    [theme=dark] .colab-df-convert {\n",
              "      background-color: #3B4455;\n",
              "      fill: #D2E3FC;\n",
              "    }\n",
              "\n",
              "    [theme=dark] .colab-df-convert:hover {\n",
              "      background-color: #434B5C;\n",
              "      box-shadow: 0px 1px 3px 1px rgba(0, 0, 0, 0.15);\n",
              "      filter: drop-shadow(0px 1px 2px rgba(0, 0, 0, 0.3));\n",
              "      fill: #FFFFFF;\n",
              "    }\n",
              "  </style>\n",
              "\n",
              "    <script>\n",
              "      const buttonEl =\n",
              "        document.querySelector('#df-58411c08-1e93-421e-b92b-c63181a0a4a4 button.colab-df-convert');\n",
              "      buttonEl.style.display =\n",
              "        google.colab.kernel.accessAllowed ? 'block' : 'none';\n",
              "\n",
              "      async function convertToInteractive(key) {\n",
              "        const element = document.querySelector('#df-58411c08-1e93-421e-b92b-c63181a0a4a4');\n",
              "        const dataTable =\n",
              "          await google.colab.kernel.invokeFunction('convertToInteractive',\n",
              "                                                    [key], {});\n",
              "        if (!dataTable) return;\n",
              "\n",
              "        const docLinkHtml = 'Like what you see? Visit the ' +\n",
              "          '<a target=\"_blank\" href=https://colab.research.google.com/notebooks/data_table.ipynb>data table notebook</a>'\n",
              "          + ' to learn more about interactive tables.';\n",
              "        element.innerHTML = '';\n",
              "        dataTable['output_type'] = 'display_data';\n",
              "        await google.colab.output.renderOutput(dataTable, element);\n",
              "        const docLink = document.createElement('div');\n",
              "        docLink.innerHTML = docLinkHtml;\n",
              "        element.appendChild(docLink);\n",
              "      }\n",
              "    </script>\n",
              "  </div>\n",
              "\n",
              "\n",
              "<div id=\"df-479ebde0-7f25-486a-8f73-018fdb7db63b\">\n",
              "  <button class=\"colab-df-quickchart\" onclick=\"quickchart('df-479ebde0-7f25-486a-8f73-018fdb7db63b')\"\n",
              "            title=\"Suggest charts\"\n",
              "            style=\"display:none;\">\n",
              "\n",
              "<svg xmlns=\"http://www.w3.org/2000/svg\" height=\"24px\"viewBox=\"0 0 24 24\"\n",
              "     width=\"24px\">\n",
              "    <g>\n",
              "        <path d=\"M19 3H5c-1.1 0-2 .9-2 2v14c0 1.1.9 2 2 2h14c1.1 0 2-.9 2-2V5c0-1.1-.9-2-2-2zM9 17H7v-7h2v7zm4 0h-2V7h2v10zm4 0h-2v-4h2v4z\"/>\n",
              "    </g>\n",
              "</svg>\n",
              "  </button>\n",
              "\n",
              "<style>\n",
              "  .colab-df-quickchart {\n",
              "      --bg-color: #E8F0FE;\n",
              "      --fill-color: #1967D2;\n",
              "      --hover-bg-color: #E2EBFA;\n",
              "      --hover-fill-color: #174EA6;\n",
              "      --disabled-fill-color: #AAA;\n",
              "      --disabled-bg-color: #DDD;\n",
              "  }\n",
              "\n",
              "  [theme=dark] .colab-df-quickchart {\n",
              "      --bg-color: #3B4455;\n",
              "      --fill-color: #D2E3FC;\n",
              "      --hover-bg-color: #434B5C;\n",
              "      --hover-fill-color: #FFFFFF;\n",
              "      --disabled-bg-color: #3B4455;\n",
              "      --disabled-fill-color: #666;\n",
              "  }\n",
              "\n",
              "  .colab-df-quickchart {\n",
              "    background-color: var(--bg-color);\n",
              "    border: none;\n",
              "    border-radius: 50%;\n",
              "    cursor: pointer;\n",
              "    display: none;\n",
              "    fill: var(--fill-color);\n",
              "    height: 32px;\n",
              "    padding: 0;\n",
              "    width: 32px;\n",
              "  }\n",
              "\n",
              "  .colab-df-quickchart:hover {\n",
              "    background-color: var(--hover-bg-color);\n",
              "    box-shadow: 0 1px 2px rgba(60, 64, 67, 0.3), 0 1px 3px 1px rgba(60, 64, 67, 0.15);\n",
              "    fill: var(--button-hover-fill-color);\n",
              "  }\n",
              "\n",
              "  .colab-df-quickchart-complete:disabled,\n",
              "  .colab-df-quickchart-complete:disabled:hover {\n",
              "    background-color: var(--disabled-bg-color);\n",
              "    fill: var(--disabled-fill-color);\n",
              "    box-shadow: none;\n",
              "  }\n",
              "\n",
              "  .colab-df-spinner {\n",
              "    border: 2px solid var(--fill-color);\n",
              "    border-color: transparent;\n",
              "    border-bottom-color: var(--fill-color);\n",
              "    animation:\n",
              "      spin 1s steps(1) infinite;\n",
              "  }\n",
              "\n",
              "  @keyframes spin {\n",
              "    0% {\n",
              "      border-color: transparent;\n",
              "      border-bottom-color: var(--fill-color);\n",
              "      border-left-color: var(--fill-color);\n",
              "    }\n",
              "    20% {\n",
              "      border-color: transparent;\n",
              "      border-left-color: var(--fill-color);\n",
              "      border-top-color: var(--fill-color);\n",
              "    }\n",
              "    30% {\n",
              "      border-color: transparent;\n",
              "      border-left-color: var(--fill-color);\n",
              "      border-top-color: var(--fill-color);\n",
              "      border-right-color: var(--fill-color);\n",
              "    }\n",
              "    40% {\n",
              "      border-color: transparent;\n",
              "      border-right-color: var(--fill-color);\n",
              "      border-top-color: var(--fill-color);\n",
              "    }\n",
              "    60% {\n",
              "      border-color: transparent;\n",
              "      border-right-color: var(--fill-color);\n",
              "    }\n",
              "    80% {\n",
              "      border-color: transparent;\n",
              "      border-right-color: var(--fill-color);\n",
              "      border-bottom-color: var(--fill-color);\n",
              "    }\n",
              "    90% {\n",
              "      border-color: transparent;\n",
              "      border-bottom-color: var(--fill-color);\n",
              "    }\n",
              "  }\n",
              "</style>\n",
              "\n",
              "  <script>\n",
              "    async function quickchart(key) {\n",
              "      const quickchartButtonEl =\n",
              "        document.querySelector('#' + key + ' button');\n",
              "      quickchartButtonEl.disabled = true;  // To prevent multiple clicks.\n",
              "      quickchartButtonEl.classList.add('colab-df-spinner');\n",
              "      try {\n",
              "        const charts = await google.colab.kernel.invokeFunction(\n",
              "            'suggestCharts', [key], {});\n",
              "      } catch (error) {\n",
              "        console.error('Error during call to suggestCharts:', error);\n",
              "      }\n",
              "      quickchartButtonEl.classList.remove('colab-df-spinner');\n",
              "      quickchartButtonEl.classList.add('colab-df-quickchart-complete');\n",
              "    }\n",
              "    (() => {\n",
              "      let quickchartButtonEl =\n",
              "        document.querySelector('#df-479ebde0-7f25-486a-8f73-018fdb7db63b button');\n",
              "      quickchartButtonEl.style.display =\n",
              "        google.colab.kernel.accessAllowed ? 'block' : 'none';\n",
              "    })();\n",
              "  </script>\n",
              "</div>\n",
              "\n",
              "    </div>\n",
              "  </div>\n"
            ],
            "application/vnd.google.colaboratory.intrinsic+json": {
              "type": "dataframe",
              "summary": "{\n  \"name\": \"data\",\n  \"rows\": 4,\n  \"fields\": [\n    {\n      \"column\": \"text\",\n      \"properties\": {\n        \"dtype\": \"string\",\n        \"num_unique_values\": 4,\n        \"samples\": [\n          \"Have you ever been put in a position where a decision is hard\\u00a0to make on your own, and you may need the advice of others?\\u00a0Sometimes you'll need to ask others for advice to get the best outcome. It won't ever hurt you to ask for advice from others. Asking for more than one opinion helps you see all different viewpoints, the best possible answer, and less pressure.\\n\\nWhen you ask multiple people for advice on something you get many viewpoints. This will help you because you can depict between all the advice you receive and have a less bias answer. I always prefer to get different view points because it makes me feel reassured knowing I have many options to go about with my decision. For example, if I am shopping for a dress and I see a cute one but I'm not sure about it, I'd ask my friends for their opinion, and that will help my final choice. With multiple viewpoints you can have a more thought about answer with the pros and negatives. Every viewpoint will either be different or possibly even the same which will narrow down your answer.\\n\\nMaking decisions are always going to be stressful which is why asking for others for advice is good because it'll bring less pressure. Your decision may be big or large but no matter what it can always be stressful, so when you ask for advice it can take some pressure off of you. I always find it to be less stressful when I go to someone and tell them I'm having a hard time with a decision, and they give me some advice to go about it. Sometimes you just need to relax before any type of decision. Would you rather have a very stressful decision to make on your own or a big decision with advice from others which will bring less stress? Big decisions can cause bad stress which may result in a loss in appetite and could also make you sad or have anxiety. However, if you do ask someone for help on your decision you can avoid all of that stress and have a better outcome.\\n\\nAsking others for advice will almost always leave you with a better outcome.\\n\\nI know this because without seeing how other people view this decision will just be a bias answer and probably not that good of a decision. Sometimes you just need to take a moment to think of others opinion and think if they'd agree with your decision. If you think about it and you're having second thoughts, then it's probably not the best decision you can do. Like for instance, I made a decision to play games instead of watch a movie for my class and many people were upset with me, which made me realize I have to take others viewpoints into the picture. However, if you ask other people for their opinion then you can see if their opinion differs from yours and work on a new one.\\n\\nWith all of that being said asking others for advice can bring less stress a better outcome and many viewpoints. If you ask for advice you can take time is review and reflect on what the best possible outcome for you and others may be. Therefore, leaving you with a well thought about answer.\",\n          \" The path to success in life is paved with positivity. It is crucial to be positive in your decisions, as this will ultimately determine whether you achieve your goals and dreams. While it may be tempting to take decisions based on what others say, it is essential to believe in yourself and what you want to achieve.\\n\\nWhen I started school, I was both positive and negative. On one hand, I was excited about what I wanted to achieve and what my goals were. On the other hand, I was unsure of myself and my surroundings. However, I soon realized that I had one reason to keep going: my son. I was determined to provide him with a better future, and this motivation kept me going.\\n\\nAs time passed, I found important people in my life who helped me stay positive. My friends were always positive and supportive, and their encouragement helped me feel more confident in myself. When I talked to them, I felt a sense of positivity and hope for the future.\\n\\nNow, as I enter my final year of school, I feel good about where I am and what I have achieved. I am confident that I can make my dreams a reality, and I am excited to see what the future holds.\\n\\nIt is important to remember that life is full of challenges and obstacles, and it is crucial to be prepared for anything that comes your way. However, with a positive attitude and a strong belief in yourself, you can overcome any obstacle and achieve your goals.\\n\\nIn conclusion, the key to achieving success in life is to always be positive, strong, and believe in yourself. No matter what new changes come your way, never give up and always put your life in God's hands.\",\n          \"Technology has revolutionized the way we live our lives. From smartphones to smart homes, technology has made our lives easier, more Convenient, and more productive. However, it has also brought its own set of problems and Challenges. In this essay, I will Compare the positive and negative aspects of technology.\\n\\nOn the positive side, technology has brought about significant advancements in various fields. For example, in healthcare, technology has enabled doctors to diagnose and treat diseases more accurately and efficiently. In education, technology has made learning more accessible and interactive. With the help of the internet, students An access a wealth of information and resources from anywhere in the world.\\n\\nMoreover, technology has made Communication easier and faster. With the help of social media and messaging apps, people An now Communicate with each other from different parts of the world in real-time. This has made it easier for businesses to Collaborate and for individuals to stay in touch with their loved ones.\\n\\nOn the negative side, technology has also brought about its own set of problems. One of the biggest Concerns is the impact of technology on our mental health. Studies have shown that excessive use of technology An lead to anxiety, depression, and other mental health issues. Additionally, technology has also led to a decline in physical activity, as people spend more time sitting in front of screens and less time engaging in physical activities.\\n\\nAnother Concern is the impact of technology on our social skills. With the rise of social media and messaging apps, people are becoming more isolated and less social. This An lead to a decline in social skills and make it harder for people to form meaningful relationships.\\n\\nIn Conclusion, technology has brought about significant advancements in various fields, making our lives easier, more Convenient, and more productive. However, it has also brought about its own set of problems and Challenges, such as the impact on our mental health, physical activity, and social skills. It is important to strike a balance between using technology and engaging in other activities that promote our overall wellbeing.\"\n        ],\n        \"semantic_type\": \"\",\n        \"description\": \"\"\n      }\n    },\n    {\n      \"column\": \"label\",\n      \"properties\": {\n        \"dtype\": \"number\",\n        \"std\": 0,\n        \"min\": 0,\n        \"max\": 1,\n        \"num_unique_values\": 2,\n        \"samples\": [\n          0,\n          1\n        ],\n        \"semantic_type\": \"\",\n        \"description\": \"\"\n      }\n    }\n  ]\n}"
            }
          },
          "metadata": {},
          "execution_count": 9
        }
      ]
    },
    {
      "cell_type": "code",
      "source": [
        "data = data[:1500]"
      ],
      "metadata": {
        "id": "L_KPHzAMCPVr"
      },
      "execution_count": 10,
      "outputs": []
    },
    {
      "cell_type": "code",
      "source": [
        "data = data.drop(columns=['label'])"
      ],
      "metadata": {
        "id": "qezptMDWtNgx"
      },
      "execution_count": 11,
      "outputs": []
    },
    {
      "cell_type": "code",
      "source": [
        "def preprocess(sentence):\n",
        "  sentence = sentence.replace('\\n\\n','').replace(',','')\n",
        "  return sentence"
      ],
      "metadata": {
        "id": "tws5roq1wyNv"
      },
      "execution_count": 12,
      "outputs": []
    },
    {
      "cell_type": "code",
      "source": [
        "data['text'] = data['text'].apply(preprocess)"
      ],
      "metadata": {
        "id": "rri5sbaOxBc2"
      },
      "execution_count": 13,
      "outputs": []
    },
    {
      "cell_type": "code",
      "source": [
        "arr_data = np.array(data)\n",
        "arr_data[1]"
      ],
      "metadata": {
        "colab": {
          "base_uri": "https://localhost:8080/"
        },
        "id": "ov8lVWwpu50w",
        "outputId": "ce745bf6-2d27-4d8f-93d0-9914b54c4d37"
      },
      "execution_count": 14,
      "outputs": [
        {
          "output_type": "execute_result",
          "data": {
            "text/plain": [
              "array([\"More and more money is spent on building theaters and sports stadiums makes some people worried they hold the opinion that the money should be put on medical care and education. How do you feel about this?The government should not put any money into building new theaters or stadiums. They should invest more in health care education and other social services. I think it is a good idea to build new stadiums and theaters but I don't think we should put all of our resources into them. We should also invest in other areas such as the economy the environment etc. What is the most important thing you would like to see happen in the next five years? What are your hopes and dreams for the future? How would you like the world to look like in ten years from now?\"],\n",
              "      dtype=object)"
            ]
          },
          "metadata": {},
          "execution_count": 14
        }
      ]
    },
    {
      "cell_type": "code",
      "source": [
        "[s.split('.') for s in arr_data[1]]"
      ],
      "metadata": {
        "colab": {
          "base_uri": "https://localhost:8080/"
        },
        "id": "aC1jOKjOvFFA",
        "outputId": "4566097e-c425-474e-b62b-f7b69dfa3b46"
      },
      "execution_count": 15,
      "outputs": [
        {
          "output_type": "execute_result",
          "data": {
            "text/plain": [
              "[['More and more money is spent on building theaters and sports stadiums makes some people worried they hold the opinion that the money should be put on medical care and education',\n",
              "  ' How do you feel about this?The government should not put any money into building new theaters or stadiums',\n",
              "  ' They should invest more in health care education and other social services',\n",
              "  \" I think it is a good idea to build new stadiums and theaters but I don't think we should put all of our resources into them\",\n",
              "  ' We should also invest in other areas such as the economy the environment etc',\n",
              "  ' What is the most important thing you would like to see happen in the next five years? What are your hopes and dreams for the future? How would you like the world to look like in ten years from now?']]"
            ]
          },
          "metadata": {},
          "execution_count": 15
        }
      ]
    },
    {
      "cell_type": "code",
      "source": [
        "total_data = []\n",
        "for el in arr_data:\n",
        "    for sen in el:\n",
        "        total_data.extend(sen.split('. '))"
      ],
      "metadata": {
        "id": "Y69Fdx4LvHf0"
      },
      "execution_count": 16,
      "outputs": []
    },
    {
      "cell_type": "code",
      "source": [
        "!pip install -q tensorflow"
      ],
      "metadata": {
        "id": "hi4OJdh42Xi7"
      },
      "execution_count": 17,
      "outputs": []
    },
    {
      "cell_type": "code",
      "source": [
        "from tensorflow.keras.preprocessing.text import Tokenizer"
      ],
      "metadata": {
        "id": "mG5zZ97qzXcX"
      },
      "execution_count": 18,
      "outputs": []
    },
    {
      "cell_type": "code",
      "source": [
        "tokenizer = Tokenizer(num_words = 1000)"
      ],
      "metadata": {
        "id": "VYTopYT-1B98"
      },
      "execution_count": 19,
      "outputs": []
    },
    {
      "cell_type": "code",
      "source": [
        "tokenizer.fit_on_texts(total_data)"
      ],
      "metadata": {
        "id": "z24msjnh42Ox"
      },
      "execution_count": 20,
      "outputs": []
    },
    {
      "cell_type": "code",
      "source": [
        "data = []\n",
        "for sentence in total_data:\n",
        "  tokenized_sentence = tokenizer.texts_to_sequences([sentence])[0]\n",
        "\n",
        "  for i in range(1,len(tokenized_sentence)):\n",
        "    data.append(tokenized_sentence[:i+1])"
      ],
      "metadata": {
        "id": "c2q1IZhk22MM"
      },
      "execution_count": 21,
      "outputs": []
    },
    {
      "cell_type": "code",
      "source": [
        "from tensorflow.keras.preprocessing.sequence import pad_sequences"
      ],
      "metadata": {
        "id": "_k1ZtXf-C_gz"
      },
      "execution_count": 22,
      "outputs": []
    },
    {
      "cell_type": "code",
      "source": [
        "X = []\n",
        "y = []\n",
        "for d in data:\n",
        "  X.append(d[:-1])\n",
        "  y.append(d[-1])"
      ],
      "metadata": {
        "id": "I9xTPIxetdjV"
      },
      "execution_count": 23,
      "outputs": []
    },
    {
      "cell_type": "code",
      "source": [
        "padded_X = pad_sequences(X,maxlen=30,padding='pre')"
      ],
      "metadata": {
        "id": "AhqNPQDO1xDD"
      },
      "execution_count": 24,
      "outputs": []
    },
    {
      "cell_type": "code",
      "source": [
        "from tensorflow.keras.utils import to_categorical\n",
        "y_one_hot = to_categorical(y,num_classes=1000)"
      ],
      "metadata": {
        "id": "fc4LVnX23bCs"
      },
      "execution_count": 25,
      "outputs": []
    },
    {
      "cell_type": "code",
      "source": [
        "padded_X = np.array(padded_X)\n",
        "y_one_hot = np.array(y_one_hot)"
      ],
      "metadata": {
        "id": "SxFtKpEruM3u"
      },
      "execution_count": 26,
      "outputs": []
    },
    {
      "cell_type": "markdown",
      "source": [
        "# Building Model"
      ],
      "metadata": {
        "id": "JNObl-pUth3Q"
      }
    },
    {
      "cell_type": "code",
      "source": [
        "from keras.models import Sequential\n",
        "from tensorflow.keras.layers import LSTM,Dense,Embedding"
      ],
      "metadata": {
        "id": "2w69g_SLtj1U"
      },
      "execution_count": 64,
      "outputs": []
    },
    {
      "cell_type": "code",
      "source": [
        "!pip install keras_tuner"
      ],
      "metadata": {
        "colab": {
          "base_uri": "https://localhost:8080/"
        },
        "id": "0aGzUKuvAfN2",
        "outputId": "8f60fa2f-d7e4-4725-8719-6d02ec963f5e"
      },
      "execution_count": 30,
      "outputs": [
        {
          "output_type": "stream",
          "name": "stdout",
          "text": [
            "Collecting keras_tuner\n",
            "  Downloading keras_tuner-1.4.7-py3-none-any.whl (129 kB)\n",
            "\u001b[?25l     \u001b[90m━━━━━━━━━━━━━━━━━━━━━━━━━━━━━━━━━━━━━━━━\u001b[0m \u001b[32m0.0/129.1 kB\u001b[0m \u001b[31m?\u001b[0m eta \u001b[36m-:--:--\u001b[0m\r\u001b[2K     \u001b[91m━━━━━━━━━━━━━━━━━━━━━━━━━━━━━━━━━━━━━━\u001b[0m\u001b[90m╺\u001b[0m\u001b[90m━\u001b[0m \u001b[32m122.9/129.1 kB\u001b[0m \u001b[31m3.7 MB/s\u001b[0m eta \u001b[36m0:00:01\u001b[0m\r\u001b[2K     \u001b[90m━━━━━━━━━━━━━━━━━━━━━━━━━━━━━━━━━━━━━━━━\u001b[0m \u001b[32m129.1/129.1 kB\u001b[0m \u001b[31m3.1 MB/s\u001b[0m eta \u001b[36m0:00:00\u001b[0m\n",
            "\u001b[?25hRequirement already satisfied: keras in /usr/local/lib/python3.10/dist-packages (from keras_tuner) (2.15.0)\n",
            "Requirement already satisfied: packaging in /usr/local/lib/python3.10/dist-packages (from keras_tuner) (24.0)\n",
            "Requirement already satisfied: requests in /usr/local/lib/python3.10/dist-packages (from keras_tuner) (2.31.0)\n",
            "Collecting kt-legacy (from keras_tuner)\n",
            "  Downloading kt_legacy-1.0.5-py3-none-any.whl (9.6 kB)\n",
            "Requirement already satisfied: charset-normalizer<4,>=2 in /usr/local/lib/python3.10/dist-packages (from requests->keras_tuner) (3.3.2)\n",
            "Requirement already satisfied: idna<4,>=2.5 in /usr/local/lib/python3.10/dist-packages (from requests->keras_tuner) (3.7)\n",
            "Requirement already satisfied: urllib3<3,>=1.21.1 in /usr/local/lib/python3.10/dist-packages (from requests->keras_tuner) (2.0.7)\n",
            "Requirement already satisfied: certifi>=2017.4.17 in /usr/local/lib/python3.10/dist-packages (from requests->keras_tuner) (2024.2.2)\n",
            "Installing collected packages: kt-legacy, keras_tuner\n",
            "Successfully installed keras_tuner-1.4.7 kt-legacy-1.0.5\n"
          ]
        }
      ]
    },
    {
      "cell_type": "code",
      "source": [
        "#keras tuner\n",
        "import keras_tuner as kt\n",
        "def build_model(hp):\n",
        "  model = Sequential()\n",
        "  # add the embedding layer\n",
        "  model.add(Embedding(input_dim=1000,output_dim=50,input_length=30))\n",
        "\n",
        "  for i in range(hp.Int('num_lstm_cell',min_value=1,max_value=10)):\n",
        "    model.add(\n",
        "        LSTM(\n",
        "            units = hp.Int(f'cell_{i}',min_value=32,max_value=512,step=32),\n",
        "            return_sequences=True if i < hp.Int('num_lstm_cell',min_value=1,max_value=3) -1 else False\n",
        "        )\n",
        "    )\n",
        "\n",
        "  # add the dense layer\n",
        "  for j in range(hp.Int('dense_layer',min_value=1,max_value=10)):\n",
        "    model.add(Dense(\n",
        "        units = hp.Int(f'dense_layer_{j}',min_value=32,max_value=512,step=32),\n",
        "        activation = hp.Choice('activation',values=['relu','tanh','sigmoid'])\n",
        "    ))\n",
        "\n",
        "  #add the final layer\n",
        "  model.add(Dense(1000,activation='softmax'))\n",
        "\n",
        "  #tunning the optimizer\n",
        "  optimizer = hp.Choice('optimizer',values=['sgd','rmsprop','adam'])\n",
        "\n",
        "  if optimizer == 'sgd':\n",
        "    learning_rate = hp.Choice('learning_rate_sgd', values=[1e-2, 1e-3, 1e-4])\n",
        "  elif optimizer == 'rmsprop':\n",
        "    learning_rate = hp.Choice('learning_rate_rmsprop', values=[1e-2, 1e-3, 1e-4])\n",
        "  else:\n",
        "    learning_rate = hp.Choice('learning_rate_adam', values=[1e-2, 1e-3, 1e-4])\n",
        "\n",
        "  if optimizer == 'sgd':\n",
        "    optimizer = keras.optimizers.SGD(learning_rate=learning_rate)\n",
        "  elif optimizer == 'rmsprop':\n",
        "    optimizer = keras.optimizers.RMSprop(learning_rate=learning_rate)\n",
        "  else:\n",
        "    optimizer = keras.optimizers.Adam(learning_rate=learning_rate)\n",
        "\n",
        "  # compile the model\n",
        "  model.compile(optimizer=optimizer,loss='categorical_crossentropy',metrics=['accuracy'])\n",
        "\n",
        "  return model #return the build model"
      ],
      "metadata": {
        "id": "LJTMwN107ULJ"
      },
      "execution_count": 68,
      "outputs": []
    },
    {
      "cell_type": "code",
      "source": [
        "tuner  = kt.RandomSearch(\n",
        "    build_model,\n",
        "    objective = 'val_accuracy',\n",
        "    max_trials=10,\n",
        "    directory = '/content/lstm_Res',\n",
        "    project_name = 'epochs_2'\n",
        ")"
      ],
      "metadata": {
        "id": "uhcPYO_awCwX",
        "colab": {
          "base_uri": "https://localhost:8080/"
        },
        "outputId": "286a54fa-373a-45d5-dcf9-55b585b1b6ac"
      },
      "execution_count": 73,
      "outputs": [
        {
          "output_type": "stream",
          "name": "stdout",
          "text": [
            "Reloading Tuner from /content/lstm_Res/epochs_2/tuner0.json\n"
          ]
        }
      ]
    },
    {
      "cell_type": "code",
      "source": [
        "from keras.callbacks import EarlyStopping"
      ],
      "metadata": {
        "id": "9pIeauVLBleD"
      },
      "execution_count": 74,
      "outputs": []
    },
    {
      "cell_type": "code",
      "source": [
        "early_stopping = EarlyStopping(\n",
        "    monitor='val_loss',\n",
        "    patience=3,\n",
        ")"
      ],
      "metadata": {
        "id": "kW_en6RgBuoB"
      },
      "execution_count": 75,
      "outputs": []
    },
    {
      "cell_type": "code",
      "source": [
        "tuner.search(padded_X,y_one_hot,validation_split=0.2,epochs=1,callbacks=[early_stopping],batch_size=32)"
      ],
      "metadata": {
        "colab": {
          "base_uri": "https://localhost:8080/"
        },
        "id": "goC95yKrA9u4",
        "outputId": "1d4e2f71-88c4-4ecc-ba8e-b31bdb644169"
      },
      "execution_count": null,
      "outputs": [
        {
          "output_type": "stream",
          "name": "stdout",
          "text": [
            "\n",
            "Search: Running Trial #2\n",
            "\n",
            "Value             |Best Value So Far |Hyperparameter\n",
            "6                 |5                 |num_lstm_cell\n",
            "480               |160               |cell_0\n",
            "1                 |3                 |dense_layer\n",
            "512               |416               |dense_layer_0\n",
            "relu              |relu              |activation\n",
            "adam              |sgd               |optimizer\n",
            "0.001             |0.01              |learning_rate_sgd\n",
            "192               |32                |cell_1\n",
            "384               |32                |cell_2\n",
            "416               |32                |cell_3\n",
            "224               |32                |cell_4\n",
            "288               |32                |dense_layer_1\n",
            "384               |32                |dense_layer_2\n",
            "\n"
          ]
        }
      ]
    },
    {
      "cell_type": "code",
      "source": [],
      "metadata": {
        "id": "O_m7x9CNCFLb"
      },
      "execution_count": null,
      "outputs": []
    }
  ]
}